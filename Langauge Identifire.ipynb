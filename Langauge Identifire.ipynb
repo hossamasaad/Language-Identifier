{
  "cells": [
    {
      "cell_type": "code",
      "execution_count": 1,
      "metadata": {
        "id": "An-n-Pa6XGsT"
      },
      "outputs": [],
      "source": [
        "# Importing libraries\n",
        "import re\n",
        "import random\n",
        "import numpy as np\n",
        "import pandas as pd\n",
        "import seaborn as sns\n",
        "import tensorflow as tf\n",
        "import matplotlib.pyplot as plt\n",
        "from sklearn.preprocessing import LabelEncoder\n",
        "from sklearn.model_selection import train_test_split\n",
        "from tensorflow.keras.utils import to_categorical\n",
        "from tensorflow.keras.preprocessing.text import Tokenizer\n",
        "from tensorflow.keras.preprocessing.sequence import pad_sequences"
      ]
    },
    {
      "cell_type": "code",
      "execution_count": 2,
      "metadata": {
        "id": "YPRKZgt8XGsY"
      },
      "outputs": [],
      "source": [
        "# Loading Data\n",
        "def load_data(path):\n",
        "    \"\"\"\n",
        "    Load data from path\n",
        "    Arguments:\n",
        "        path (str): csv data path\n",
        "    Return:\n",
        "        CSV data loaded from path as dataframe\n",
        "    \"\"\"\n",
        "    return pd.read_csv(path)"
      ]
    },
    {
      "cell_type": "code",
      "execution_count": 3,
      "metadata": {
        "colab": {
          "base_uri": "https://localhost:8080/",
          "height": 206
        },
        "id": "8wN7F6V3XGsZ",
        "outputId": "d5eb50a3-2973-499a-bf28-13bbb4d74cd9"
      },
      "outputs": [
        {
          "output_type": "execute_result",
          "data": {
            "text/html": [
              "\n",
              "  <div id=\"df-4d7b5f9e-0370-4224-9823-c2a9476e4866\">\n",
              "    <div class=\"colab-df-container\">\n",
              "      <div>\n",
              "<style scoped>\n",
              "    .dataframe tbody tr th:only-of-type {\n",
              "        vertical-align: middle;\n",
              "    }\n",
              "\n",
              "    .dataframe tbody tr th {\n",
              "        vertical-align: top;\n",
              "    }\n",
              "\n",
              "    .dataframe thead th {\n",
              "        text-align: right;\n",
              "    }\n",
              "</style>\n",
              "<table border=\"1\" class=\"dataframe\">\n",
              "  <thead>\n",
              "    <tr style=\"text-align: right;\">\n",
              "      <th></th>\n",
              "      <th>Text</th>\n",
              "      <th>Language</th>\n",
              "    </tr>\n",
              "  </thead>\n",
              "  <tbody>\n",
              "    <tr>\n",
              "      <th>0</th>\n",
              "      <td>Nature, in the broadest sense, is the natural...</td>\n",
              "      <td>English</td>\n",
              "    </tr>\n",
              "    <tr>\n",
              "      <th>1</th>\n",
              "      <td>\"Nature\" can refer to the phenomena of the phy...</td>\n",
              "      <td>English</td>\n",
              "    </tr>\n",
              "    <tr>\n",
              "      <th>2</th>\n",
              "      <td>The study of nature is a large, if not the onl...</td>\n",
              "      <td>English</td>\n",
              "    </tr>\n",
              "    <tr>\n",
              "      <th>3</th>\n",
              "      <td>Although humans are part of nature, human acti...</td>\n",
              "      <td>English</td>\n",
              "    </tr>\n",
              "    <tr>\n",
              "      <th>4</th>\n",
              "      <td>[1] The word nature is borrowed from the Old F...</td>\n",
              "      <td>English</td>\n",
              "    </tr>\n",
              "  </tbody>\n",
              "</table>\n",
              "</div>\n",
              "      <button class=\"colab-df-convert\" onclick=\"convertToInteractive('df-4d7b5f9e-0370-4224-9823-c2a9476e4866')\"\n",
              "              title=\"Convert this dataframe to an interactive table.\"\n",
              "              style=\"display:none;\">\n",
              "        \n",
              "  <svg xmlns=\"http://www.w3.org/2000/svg\" height=\"24px\"viewBox=\"0 0 24 24\"\n",
              "       width=\"24px\">\n",
              "    <path d=\"M0 0h24v24H0V0z\" fill=\"none\"/>\n",
              "    <path d=\"M18.56 5.44l.94 2.06.94-2.06 2.06-.94-2.06-.94-.94-2.06-.94 2.06-2.06.94zm-11 1L8.5 8.5l.94-2.06 2.06-.94-2.06-.94L8.5 2.5l-.94 2.06-2.06.94zm10 10l.94 2.06.94-2.06 2.06-.94-2.06-.94-.94-2.06-.94 2.06-2.06.94z\"/><path d=\"M17.41 7.96l-1.37-1.37c-.4-.4-.92-.59-1.43-.59-.52 0-1.04.2-1.43.59L10.3 9.45l-7.72 7.72c-.78.78-.78 2.05 0 2.83L4 21.41c.39.39.9.59 1.41.59.51 0 1.02-.2 1.41-.59l7.78-7.78 2.81-2.81c.8-.78.8-2.07 0-2.86zM5.41 20L4 18.59l7.72-7.72 1.47 1.35L5.41 20z\"/>\n",
              "  </svg>\n",
              "      </button>\n",
              "      \n",
              "  <style>\n",
              "    .colab-df-container {\n",
              "      display:flex;\n",
              "      flex-wrap:wrap;\n",
              "      gap: 12px;\n",
              "    }\n",
              "\n",
              "    .colab-df-convert {\n",
              "      background-color: #E8F0FE;\n",
              "      border: none;\n",
              "      border-radius: 50%;\n",
              "      cursor: pointer;\n",
              "      display: none;\n",
              "      fill: #1967D2;\n",
              "      height: 32px;\n",
              "      padding: 0 0 0 0;\n",
              "      width: 32px;\n",
              "    }\n",
              "\n",
              "    .colab-df-convert:hover {\n",
              "      background-color: #E2EBFA;\n",
              "      box-shadow: 0px 1px 2px rgba(60, 64, 67, 0.3), 0px 1px 3px 1px rgba(60, 64, 67, 0.15);\n",
              "      fill: #174EA6;\n",
              "    }\n",
              "\n",
              "    [theme=dark] .colab-df-convert {\n",
              "      background-color: #3B4455;\n",
              "      fill: #D2E3FC;\n",
              "    }\n",
              "\n",
              "    [theme=dark] .colab-df-convert:hover {\n",
              "      background-color: #434B5C;\n",
              "      box-shadow: 0px 1px 3px 1px rgba(0, 0, 0, 0.15);\n",
              "      filter: drop-shadow(0px 1px 2px rgba(0, 0, 0, 0.3));\n",
              "      fill: #FFFFFF;\n",
              "    }\n",
              "  </style>\n",
              "\n",
              "      <script>\n",
              "        const buttonEl =\n",
              "          document.querySelector('#df-4d7b5f9e-0370-4224-9823-c2a9476e4866 button.colab-df-convert');\n",
              "        buttonEl.style.display =\n",
              "          google.colab.kernel.accessAllowed ? 'block' : 'none';\n",
              "\n",
              "        async function convertToInteractive(key) {\n",
              "          const element = document.querySelector('#df-4d7b5f9e-0370-4224-9823-c2a9476e4866');\n",
              "          const dataTable =\n",
              "            await google.colab.kernel.invokeFunction('convertToInteractive',\n",
              "                                                     [key], {});\n",
              "          if (!dataTable) return;\n",
              "\n",
              "          const docLinkHtml = 'Like what you see? Visit the ' +\n",
              "            '<a target=\"_blank\" href=https://colab.research.google.com/notebooks/data_table.ipynb>data table notebook</a>'\n",
              "            + ' to learn more about interactive tables.';\n",
              "          element.innerHTML = '';\n",
              "          dataTable['output_type'] = 'display_data';\n",
              "          await google.colab.output.renderOutput(dataTable, element);\n",
              "          const docLink = document.createElement('div');\n",
              "          docLink.innerHTML = docLinkHtml;\n",
              "          element.appendChild(docLink);\n",
              "        }\n",
              "      </script>\n",
              "    </div>\n",
              "  </div>\n",
              "  "
            ],
            "text/plain": [
              "                                                Text Language\n",
              "0   Nature, in the broadest sense, is the natural...  English\n",
              "1  \"Nature\" can refer to the phenomena of the phy...  English\n",
              "2  The study of nature is a large, if not the onl...  English\n",
              "3  Although humans are part of nature, human acti...  English\n",
              "4  [1] The word nature is borrowed from the Old F...  English"
            ]
          },
          "metadata": {},
          "execution_count": 3
        }
      ],
      "source": [
        "data = load_data('data.csv')\n",
        "data.head()"
      ]
    },
    {
      "cell_type": "code",
      "execution_count": 4,
      "metadata": {
        "colab": {
          "base_uri": "https://localhost:8080/",
          "height": 206
        },
        "id": "Z0xN0zvIXGsa",
        "outputId": "28a6d7dc-aef5-43b8-da86-c731c27cf99c"
      },
      "outputs": [
        {
          "output_type": "execute_result",
          "data": {
            "text/html": [
              "\n",
              "  <div id=\"df-ff9f66ef-8c6d-40b1-8646-729f722109a8\">\n",
              "    <div class=\"colab-df-container\">\n",
              "      <div>\n",
              "<style scoped>\n",
              "    .dataframe tbody tr th:only-of-type {\n",
              "        vertical-align: middle;\n",
              "    }\n",
              "\n",
              "    .dataframe tbody tr th {\n",
              "        vertical-align: top;\n",
              "    }\n",
              "\n",
              "    .dataframe thead th {\n",
              "        text-align: right;\n",
              "    }\n",
              "</style>\n",
              "<table border=\"1\" class=\"dataframe\">\n",
              "  <thead>\n",
              "    <tr style=\"text-align: right;\">\n",
              "      <th></th>\n",
              "      <th>Text</th>\n",
              "      <th>Language</th>\n",
              "    </tr>\n",
              "  </thead>\n",
              "  <tbody>\n",
              "    <tr>\n",
              "      <th>10332</th>\n",
              "      <td>ನಿಮ್ಮ ತಪ್ಪು ಏನು ಬಂದಿದೆಯೆಂದರೆ ಆ ದಿನದಿಂದ ನಿಮಗೆ ಒ...</td>\n",
              "      <td>Kannada</td>\n",
              "    </tr>\n",
              "    <tr>\n",
              "      <th>10333</th>\n",
              "      <td>ನಾರ್ಸಿಸಾ ತಾನು ಮೊದಲಿಗೆ ಹೆಣಗಾಡುತ್ತಿದ್ದ ಮಾರ್ಗಗಳನ್...</td>\n",
              "      <td>Kannada</td>\n",
              "    </tr>\n",
              "    <tr>\n",
              "      <th>10334</th>\n",
              "      <td>ಹೇಗೆ ' ನಾರ್ಸಿಸಿಸಮ್ ಈಗ ಮರಿಯನ್ ಅವರಿಗೆ ಸಂಭವಿಸಿದ ಎ...</td>\n",
              "      <td>Kannada</td>\n",
              "    </tr>\n",
              "    <tr>\n",
              "      <th>10335</th>\n",
              "      <td>ಅವಳು ಈಗ ಹೆಚ್ಚು ಚಿನ್ನದ ಬ್ರೆಡ್ ಬಯಸುವುದಿಲ್ಲ ಎಂದು ...</td>\n",
              "      <td>Kannada</td>\n",
              "    </tr>\n",
              "    <tr>\n",
              "      <th>10336</th>\n",
              "      <td>ಟೆರ್ರಿ ನೀವು ನಿಜವಾಗಿಯೂ ಆ ದೇವದೂತನಂತೆ ಸ್ವಲ್ಪ ಕಾಣು...</td>\n",
              "      <td>Kannada</td>\n",
              "    </tr>\n",
              "  </tbody>\n",
              "</table>\n",
              "</div>\n",
              "      <button class=\"colab-df-convert\" onclick=\"convertToInteractive('df-ff9f66ef-8c6d-40b1-8646-729f722109a8')\"\n",
              "              title=\"Convert this dataframe to an interactive table.\"\n",
              "              style=\"display:none;\">\n",
              "        \n",
              "  <svg xmlns=\"http://www.w3.org/2000/svg\" height=\"24px\"viewBox=\"0 0 24 24\"\n",
              "       width=\"24px\">\n",
              "    <path d=\"M0 0h24v24H0V0z\" fill=\"none\"/>\n",
              "    <path d=\"M18.56 5.44l.94 2.06.94-2.06 2.06-.94-2.06-.94-.94-2.06-.94 2.06-2.06.94zm-11 1L8.5 8.5l.94-2.06 2.06-.94-2.06-.94L8.5 2.5l-.94 2.06-2.06.94zm10 10l.94 2.06.94-2.06 2.06-.94-2.06-.94-.94-2.06-.94 2.06-2.06.94z\"/><path d=\"M17.41 7.96l-1.37-1.37c-.4-.4-.92-.59-1.43-.59-.52 0-1.04.2-1.43.59L10.3 9.45l-7.72 7.72c-.78.78-.78 2.05 0 2.83L4 21.41c.39.39.9.59 1.41.59.51 0 1.02-.2 1.41-.59l7.78-7.78 2.81-2.81c.8-.78.8-2.07 0-2.86zM5.41 20L4 18.59l7.72-7.72 1.47 1.35L5.41 20z\"/>\n",
              "  </svg>\n",
              "      </button>\n",
              "      \n",
              "  <style>\n",
              "    .colab-df-container {\n",
              "      display:flex;\n",
              "      flex-wrap:wrap;\n",
              "      gap: 12px;\n",
              "    }\n",
              "\n",
              "    .colab-df-convert {\n",
              "      background-color: #E8F0FE;\n",
              "      border: none;\n",
              "      border-radius: 50%;\n",
              "      cursor: pointer;\n",
              "      display: none;\n",
              "      fill: #1967D2;\n",
              "      height: 32px;\n",
              "      padding: 0 0 0 0;\n",
              "      width: 32px;\n",
              "    }\n",
              "\n",
              "    .colab-df-convert:hover {\n",
              "      background-color: #E2EBFA;\n",
              "      box-shadow: 0px 1px 2px rgba(60, 64, 67, 0.3), 0px 1px 3px 1px rgba(60, 64, 67, 0.15);\n",
              "      fill: #174EA6;\n",
              "    }\n",
              "\n",
              "    [theme=dark] .colab-df-convert {\n",
              "      background-color: #3B4455;\n",
              "      fill: #D2E3FC;\n",
              "    }\n",
              "\n",
              "    [theme=dark] .colab-df-convert:hover {\n",
              "      background-color: #434B5C;\n",
              "      box-shadow: 0px 1px 3px 1px rgba(0, 0, 0, 0.15);\n",
              "      filter: drop-shadow(0px 1px 2px rgba(0, 0, 0, 0.3));\n",
              "      fill: #FFFFFF;\n",
              "    }\n",
              "  </style>\n",
              "\n",
              "      <script>\n",
              "        const buttonEl =\n",
              "          document.querySelector('#df-ff9f66ef-8c6d-40b1-8646-729f722109a8 button.colab-df-convert');\n",
              "        buttonEl.style.display =\n",
              "          google.colab.kernel.accessAllowed ? 'block' : 'none';\n",
              "\n",
              "        async function convertToInteractive(key) {\n",
              "          const element = document.querySelector('#df-ff9f66ef-8c6d-40b1-8646-729f722109a8');\n",
              "          const dataTable =\n",
              "            await google.colab.kernel.invokeFunction('convertToInteractive',\n",
              "                                                     [key], {});\n",
              "          if (!dataTable) return;\n",
              "\n",
              "          const docLinkHtml = 'Like what you see? Visit the ' +\n",
              "            '<a target=\"_blank\" href=https://colab.research.google.com/notebooks/data_table.ipynb>data table notebook</a>'\n",
              "            + ' to learn more about interactive tables.';\n",
              "          element.innerHTML = '';\n",
              "          dataTable['output_type'] = 'display_data';\n",
              "          await google.colab.output.renderOutput(dataTable, element);\n",
              "          const docLink = document.createElement('div');\n",
              "          docLink.innerHTML = docLinkHtml;\n",
              "          element.appendChild(docLink);\n",
              "        }\n",
              "      </script>\n",
              "    </div>\n",
              "  </div>\n",
              "  "
            ],
            "text/plain": [
              "                                                    Text Language\n",
              "10332  ನಿಮ್ಮ ತಪ್ಪು ಏನು ಬಂದಿದೆಯೆಂದರೆ ಆ ದಿನದಿಂದ ನಿಮಗೆ ಒ...  Kannada\n",
              "10333  ನಾರ್ಸಿಸಾ ತಾನು ಮೊದಲಿಗೆ ಹೆಣಗಾಡುತ್ತಿದ್ದ ಮಾರ್ಗಗಳನ್...  Kannada\n",
              "10334  ಹೇಗೆ ' ನಾರ್ಸಿಸಿಸಮ್ ಈಗ ಮರಿಯನ್ ಅವರಿಗೆ ಸಂಭವಿಸಿದ ಎ...  Kannada\n",
              "10335  ಅವಳು ಈಗ ಹೆಚ್ಚು ಚಿನ್ನದ ಬ್ರೆಡ್ ಬಯಸುವುದಿಲ್ಲ ಎಂದು ...  Kannada\n",
              "10336  ಟೆರ್ರಿ ನೀವು ನಿಜವಾಗಿಯೂ ಆ ದೇವದೂತನಂತೆ ಸ್ವಲ್ಪ ಕಾಣು...  Kannada"
            ]
          },
          "metadata": {},
          "execution_count": 4
        }
      ],
      "source": [
        "data.tail()"
      ]
    },
    {
      "cell_type": "code",
      "execution_count": 5,
      "metadata": {
        "colab": {
          "base_uri": "https://localhost:8080/",
          "height": 582
        },
        "id": "_xfJXSGpXGsb",
        "outputId": "09ddace5-37fb-4352-8a6b-bc684c4008be"
      },
      "outputs": [
        {
          "output_type": "execute_result",
          "data": {
            "text/html": [
              "\n",
              "  <div id=\"df-c59a7811-b081-4a66-997c-af8305212c2e\">\n",
              "    <div class=\"colab-df-container\">\n",
              "      <div>\n",
              "<style scoped>\n",
              "    .dataframe tbody tr th:only-of-type {\n",
              "        vertical-align: middle;\n",
              "    }\n",
              "\n",
              "    .dataframe tbody tr th {\n",
              "        vertical-align: top;\n",
              "    }\n",
              "\n",
              "    .dataframe thead th {\n",
              "        text-align: right;\n",
              "    }\n",
              "</style>\n",
              "<table border=\"1\" class=\"dataframe\">\n",
              "  <thead>\n",
              "    <tr style=\"text-align: right;\">\n",
              "      <th></th>\n",
              "      <th>Language</th>\n",
              "    </tr>\n",
              "  </thead>\n",
              "  <tbody>\n",
              "    <tr>\n",
              "      <th>English</th>\n",
              "      <td>1385</td>\n",
              "    </tr>\n",
              "    <tr>\n",
              "      <th>French</th>\n",
              "      <td>1014</td>\n",
              "    </tr>\n",
              "    <tr>\n",
              "      <th>Spanish</th>\n",
              "      <td>819</td>\n",
              "    </tr>\n",
              "    <tr>\n",
              "      <th>Portugeese</th>\n",
              "      <td>739</td>\n",
              "    </tr>\n",
              "    <tr>\n",
              "      <th>Italian</th>\n",
              "      <td>698</td>\n",
              "    </tr>\n",
              "    <tr>\n",
              "      <th>Russian</th>\n",
              "      <td>692</td>\n",
              "    </tr>\n",
              "    <tr>\n",
              "      <th>Sweedish</th>\n",
              "      <td>676</td>\n",
              "    </tr>\n",
              "    <tr>\n",
              "      <th>Malayalam</th>\n",
              "      <td>594</td>\n",
              "    </tr>\n",
              "    <tr>\n",
              "      <th>Dutch</th>\n",
              "      <td>546</td>\n",
              "    </tr>\n",
              "    <tr>\n",
              "      <th>Arabic</th>\n",
              "      <td>536</td>\n",
              "    </tr>\n",
              "    <tr>\n",
              "      <th>Turkish</th>\n",
              "      <td>474</td>\n",
              "    </tr>\n",
              "    <tr>\n",
              "      <th>German</th>\n",
              "      <td>470</td>\n",
              "    </tr>\n",
              "    <tr>\n",
              "      <th>Tamil</th>\n",
              "      <td>469</td>\n",
              "    </tr>\n",
              "    <tr>\n",
              "      <th>Danish</th>\n",
              "      <td>428</td>\n",
              "    </tr>\n",
              "    <tr>\n",
              "      <th>Kannada</th>\n",
              "      <td>369</td>\n",
              "    </tr>\n",
              "    <tr>\n",
              "      <th>Greek</th>\n",
              "      <td>365</td>\n",
              "    </tr>\n",
              "    <tr>\n",
              "      <th>Hindi</th>\n",
              "      <td>63</td>\n",
              "    </tr>\n",
              "  </tbody>\n",
              "</table>\n",
              "</div>\n",
              "      <button class=\"colab-df-convert\" onclick=\"convertToInteractive('df-c59a7811-b081-4a66-997c-af8305212c2e')\"\n",
              "              title=\"Convert this dataframe to an interactive table.\"\n",
              "              style=\"display:none;\">\n",
              "        \n",
              "  <svg xmlns=\"http://www.w3.org/2000/svg\" height=\"24px\"viewBox=\"0 0 24 24\"\n",
              "       width=\"24px\">\n",
              "    <path d=\"M0 0h24v24H0V0z\" fill=\"none\"/>\n",
              "    <path d=\"M18.56 5.44l.94 2.06.94-2.06 2.06-.94-2.06-.94-.94-2.06-.94 2.06-2.06.94zm-11 1L8.5 8.5l.94-2.06 2.06-.94-2.06-.94L8.5 2.5l-.94 2.06-2.06.94zm10 10l.94 2.06.94-2.06 2.06-.94-2.06-.94-.94-2.06-.94 2.06-2.06.94z\"/><path d=\"M17.41 7.96l-1.37-1.37c-.4-.4-.92-.59-1.43-.59-.52 0-1.04.2-1.43.59L10.3 9.45l-7.72 7.72c-.78.78-.78 2.05 0 2.83L4 21.41c.39.39.9.59 1.41.59.51 0 1.02-.2 1.41-.59l7.78-7.78 2.81-2.81c.8-.78.8-2.07 0-2.86zM5.41 20L4 18.59l7.72-7.72 1.47 1.35L5.41 20z\"/>\n",
              "  </svg>\n",
              "      </button>\n",
              "      \n",
              "  <style>\n",
              "    .colab-df-container {\n",
              "      display:flex;\n",
              "      flex-wrap:wrap;\n",
              "      gap: 12px;\n",
              "    }\n",
              "\n",
              "    .colab-df-convert {\n",
              "      background-color: #E8F0FE;\n",
              "      border: none;\n",
              "      border-radius: 50%;\n",
              "      cursor: pointer;\n",
              "      display: none;\n",
              "      fill: #1967D2;\n",
              "      height: 32px;\n",
              "      padding: 0 0 0 0;\n",
              "      width: 32px;\n",
              "    }\n",
              "\n",
              "    .colab-df-convert:hover {\n",
              "      background-color: #E2EBFA;\n",
              "      box-shadow: 0px 1px 2px rgba(60, 64, 67, 0.3), 0px 1px 3px 1px rgba(60, 64, 67, 0.15);\n",
              "      fill: #174EA6;\n",
              "    }\n",
              "\n",
              "    [theme=dark] .colab-df-convert {\n",
              "      background-color: #3B4455;\n",
              "      fill: #D2E3FC;\n",
              "    }\n",
              "\n",
              "    [theme=dark] .colab-df-convert:hover {\n",
              "      background-color: #434B5C;\n",
              "      box-shadow: 0px 1px 3px 1px rgba(0, 0, 0, 0.15);\n",
              "      filter: drop-shadow(0px 1px 2px rgba(0, 0, 0, 0.3));\n",
              "      fill: #FFFFFF;\n",
              "    }\n",
              "  </style>\n",
              "\n",
              "      <script>\n",
              "        const buttonEl =\n",
              "          document.querySelector('#df-c59a7811-b081-4a66-997c-af8305212c2e button.colab-df-convert');\n",
              "        buttonEl.style.display =\n",
              "          google.colab.kernel.accessAllowed ? 'block' : 'none';\n",
              "\n",
              "        async function convertToInteractive(key) {\n",
              "          const element = document.querySelector('#df-c59a7811-b081-4a66-997c-af8305212c2e');\n",
              "          const dataTable =\n",
              "            await google.colab.kernel.invokeFunction('convertToInteractive',\n",
              "                                                     [key], {});\n",
              "          if (!dataTable) return;\n",
              "\n",
              "          const docLinkHtml = 'Like what you see? Visit the ' +\n",
              "            '<a target=\"_blank\" href=https://colab.research.google.com/notebooks/data_table.ipynb>data table notebook</a>'\n",
              "            + ' to learn more about interactive tables.';\n",
              "          element.innerHTML = '';\n",
              "          dataTable['output_type'] = 'display_data';\n",
              "          await google.colab.output.renderOutput(dataTable, element);\n",
              "          const docLink = document.createElement('div');\n",
              "          docLink.innerHTML = docLinkHtml;\n",
              "          element.appendChild(docLink);\n",
              "        }\n",
              "      </script>\n",
              "    </div>\n",
              "  </div>\n",
              "  "
            ],
            "text/plain": [
              "            Language\n",
              "English         1385\n",
              "French          1014\n",
              "Spanish          819\n",
              "Portugeese       739\n",
              "Italian          698\n",
              "Russian          692\n",
              "Sweedish         676\n",
              "Malayalam        594\n",
              "Dutch            546\n",
              "Arabic           536\n",
              "Turkish          474\n",
              "German           470\n",
              "Tamil            469\n",
              "Danish           428\n",
              "Kannada          369\n",
              "Greek            365\n",
              "Hindi             63"
            ]
          },
          "metadata": {},
          "execution_count": 5
        }
      ],
      "source": [
        "# Languages counts\n",
        "def langauge_sentence_counts():\n",
        "    \"\"\"\n",
        "        Get every language and number of sentences\n",
        "        Return:\n",
        "            a two-columns dataframe conatin each langauge and number of sentences in that langauge\n",
        "    \"\"\"\n",
        "    return pd.DataFrame(data['Language'].value_counts())\n",
        "\n",
        "langauge_sentence_counts()"
      ]
    },
    {
      "cell_type": "code",
      "execution_count": 6,
      "metadata": {
        "colab": {
          "base_uri": "https://localhost:8080/"
        },
        "id": "zWqIeSpoXGsb",
        "outputId": "df8e0efa-382f-4aed-edb0-4aa8740ce72b"
      },
      "outputs": [
        {
          "output_type": "stream",
          "name": "stdout",
          "text": [
            "<class 'pandas.core.frame.DataFrame'>\n",
            "RangeIndex: 10337 entries, 0 to 10336\n",
            "Data columns (total 2 columns):\n",
            " #   Column    Non-Null Count  Dtype \n",
            "---  ------    --------------  ----- \n",
            " 0   Text      10337 non-null  object\n",
            " 1   Language  10337 non-null  object\n",
            "dtypes: object(2)\n",
            "memory usage: 161.6+ KB\n"
          ]
        }
      ],
      "source": [
        "data.info()"
      ]
    },
    {
      "cell_type": "code",
      "execution_count": 7,
      "metadata": {
        "id": "RkaiaJVLXGsc"
      },
      "outputs": [],
      "source": [
        "def split_XY(data):\n",
        "    \"\"\"\n",
        "    Split data to sentences and labels\n",
        "    Arguments:\n",
        "        Data (dataframe): data to split\n",
        "    Return\n",
        "        Tuple (sentences, labels)\n",
        "    \"\"\"\n",
        "    return data['Text'], data['Language']\n",
        "\n",
        "sentences, labels = split_XY(data)"
      ]
    },
    {
      "cell_type": "code",
      "execution_count": 8,
      "metadata": {
        "colab": {
          "base_uri": "https://localhost:8080/"
        },
        "id": "-OIAugG-XGsd",
        "outputId": "ab066fb4-f76a-43d6-b904-4a62f7d8073b"
      },
      "outputs": [
        {
          "output_type": "stream",
          "name": "stdout",
          "text": [
            "Text: con la sua unica figlia narcisa marion era estremamente umile e dolce narcisa invece era completamente l'opposto vedi lei era bellissima oltre le parole lei era come una vivente.\n",
            "Langauge: Italian\n",
            "--------------------------------------------------------------------------------------------------------------\n",
            "Text: Eu não me importo se alguém está perguntando algo e esta é uma decisão muito fácil para você, como se alguém dissesse para você pegar meu 1 milhão de dólares e você dissesse que isso é um acéfalo.\n",
            "Langauge: Portugeese\n",
            "--------------------------------------------------------------------------------------------------------------\n",
            "Text: e lo faccio sempre tu puoi dire dita incrociate e tu incroci le dita in quel modo.\n",
            "Langauge: Italian\n",
            "--------------------------------------------------------------------------------------------------------------\n",
            "Text: Bidrag angives med IP-adressen.\n",
            "Langauge: Danish\n",
            "--------------------------------------------------------------------------------------------------------------\n",
            "Text: Wie wäre es mit etwas Eis?\n",
            "Langauge: German\n",
            "--------------------------------------------------------------------------------------------------------------\n",
            "Text: في الأصل، كان بوميس ينوي جعل ويكيبيديا شركة من أجل الربح.\n",
            "Langauge: Arabic\n",
            "--------------------------------------------------------------------------------------------------------------\n",
            "Text: τι ήρθε το λάθος σου, ας σου δώσουμε κάτι ωραίο από εκείνη τη μέρα και μετά.\n",
            "Langauge: Greek\n",
            "--------------------------------------------------------------------------------------------------------------\n",
            "Text: non, désolé, j'ai déjà des plans en colère.\n",
            "Langauge: French\n",
            "--------------------------------------------------------------------------------------------------------------\n",
            "Text: இவற்றோடு “எச்.டி.எம்.எல்.”, “சி.எசு.எசு.” ஆகியவையும் பக்கங்களை வடிவமைக்கப் பயன்படுத்தப்படுகின்றன.\n",
            "Langauge: Tamil\n",
            "--------------------------------------------------------------------------------------------------------------\n",
            "Text: Ainsi, en juin 2009, le philosophe français Bernard Stiegler estime que Wikipédia, « passage obligé pour tout utilisateur d'Internet », est un « exemple frappant d'économie de la contribution » et que l'encyclopédie « a conçu un système d'intelligence collective en réseau »[73].\n",
            "Langauge: French\n",
            "--------------------------------------------------------------------------------------------------------------\n"
          ]
        }
      ],
      "source": [
        "# Explore some sentences\n",
        "def explore_data(sentences, labels, n):\n",
        "    \"\"\"\n",
        "    Explore some random sentence from data\n",
        "    Arguments:\n",
        "        sentences(series, list): all sentences\n",
        "        labels(series, list): language in which sentences were written\n",
        "        n(int): number of sentences to print \n",
        "    \"\"\"\n",
        "    indecies_list = random.sample(range(0, len(sentences)), n)\n",
        "\n",
        "    for idx in indecies_list:\n",
        "        print('Text:', sentences[idx])\n",
        "        print('Langauge:', labels[idx])\n",
        "        print('--------------------------------------------------------------------------------------------------------------')\\\n",
        "\n",
        "explore_data(sentences, labels, 10)"
      ]
    },
    {
      "cell_type": "code",
      "execution_count": 9,
      "metadata": {
        "colab": {
          "base_uri": "https://localhost:8080/"
        },
        "id": "XNDyGUZgXGse",
        "outputId": "b5e83be2-8298-4085-c025-5b969883960d"
      },
      "outputs": [
        {
          "output_type": "stream",
          "name": "stderr",
          "text": [
            "/usr/local/lib/python3.7/dist-packages/ipykernel_launcher.py:14: FutureWarning: Possible nested set at position 1\n",
            "  \n"
          ]
        }
      ],
      "source": [
        "# Clear sentences\n",
        "def clear_sentences(sentences):\n",
        "    \"\"\"\n",
        "    Clear symbols, numbers and single letters from sentences\n",
        "    Arguments:\n",
        "        sentences(series, list): sentences to clear\n",
        "    Return:\n",
        "        new_sentences(list): cleared sentences\n",
        "    \"\"\"\n",
        "    new_sentences = []\n",
        "    for sentence in sentences:\n",
        "        # removing symbols and numbers\n",
        "        sentence = re.sub(r'[!@#.$(),n\"%^*?:;~`0-9]', ' ', sentence)\n",
        "        sentence = re.sub(r'[[]]', ' ', sentence)\n",
        "\n",
        "        # removing single letters\n",
        "        sentence = ' '.join( [w for w in sentence.split() if len(w)>1] )\n",
        "\n",
        "        # conver to lower case\n",
        "        sentence = sentence.lower()\n",
        "\n",
        "        # append to new texts\n",
        "        new_sentences.append(sentence)\n",
        "    \n",
        "    return new_sentences\n",
        "\n",
        "cleared_sentences = clear_sentences(sentences)"
      ]
    },
    {
      "cell_type": "code",
      "execution_count": 10,
      "metadata": {
        "colab": {
          "base_uri": "https://localhost:8080/"
        },
        "id": "o2z-omo9XGsf",
        "outputId": "09875c71-718f-428e-b4ed-30ab632bc7fd"
      },
      "outputs": [
        {
          "output_type": "stream",
          "name": "stdout",
          "text": [
            "Text: நான் வேலை செய்வேன் என்று நேர்மையாக நினைக்கவில்லை\n",
            "Langauge: Tamil\n",
            "--------------------------------------------------------------------------------------------------------------\n",
            "Text: lä kar mella språkversio er språklä kar eller terwikilä kar lagras seda ce tralt på database wikidata istället för att läggas med wikikod varje språkversio av varje artikel\n",
            "Langauge: Sweedish\n",
            "--------------------------------------------------------------------------------------------------------------\n",
            "Text: l'appre dime to automatico la statistica so discipli strettame te collegate\n",
            "Langauge: Italian\n",
            "--------------------------------------------------------------------------------------------------------------\n",
            "Text: википедия настоящее время работает на выделенных кластерах серверов li ux основном ubu tu[ ][ несколькими машинами ope solaris для zfs\n",
            "Langauge: Russian\n",
            "--------------------------------------------------------------------------------------------------------------\n",
            "Text: யாரோ ஒருவர் தனது கனவுகளின் வேலை கிடைத்தால் நீங்கள் அதிர்ஷ்டசாலி என்று சொல்லலாம் அல்லது யாரோ ஒருவர் அதிர்ஷ்டம் போன்ற அவர்களின் கனவுகளின் பல்கலைக்கழகத்தில் இறங்கினீர்கள் இது உங்களுக்கு அதிர்ஷ்டசாலி என்று வாழ்த்துவதற்கான ஒரு வழியாகும் அல்லது அவர் அதிர்ஷ்டசாலி என்று வலியுறுத்துவதைப் போன்றது\n",
            "Langauge: Tamil\n",
            "--------------------------------------------------------------------------------------------------------------\n",
            "Text: the operatio of wikipedia depe ds mediawiki custom-made free ope source wiki software platform writte php built upo the mysql database system\n",
            "Langauge: English\n",
            "--------------------------------------------------------------------------------------------------------------\n",
            "Text: ich liebe dich du hast mich verkauft weil ma chmal leute ihre reise beschreibe oder jema de de sie gekauft habe sie beschreibe dass es so gut ist\n",
            "Langauge: German\n",
            "--------------------------------------------------------------------------------------------------------------\n",
            "Text: of huge mag ifice golde castle arcisa was amazed at all the beauty she saw ew deserve so ma riches ew you'd like it ythi you wa you will fi here from the prettiest of dresses to the tastiest of foods all of it my palace well speaki of food i'm really hu gry after that ride i'm starvi ca have of that tasty food of course here meat smelly melissa she will get you whatever you wa i've heard so much about you you poor dear you're hu gry are 't you come let's go to the di table i'll get you some food oh tha you they we to the di room there the table was the most astou di food arcisa had ever see amazi that's because it is the jams are made\n",
            "Langauge: English\n",
            "--------------------------------------------------------------------------------------------------------------\n",
            "Text: jag har ett möte med mi vä er kväll eller jag ska möta mi vä er imorgo\n",
            "Langauge: Sweedish\n",
            "--------------------------------------------------------------------------------------------------------------\n",
            "Text: ]​[ ]​ segú estudio realizado por la revista nature «wikipedia alca zaba la ciclopedia britá ica» calidad ]​ au que existe co troversia sobre este asu to\n",
            "Langauge: Spanish\n",
            "--------------------------------------------------------------------------------------------------------------\n"
          ]
        }
      ],
      "source": [
        "# EXPLORE SENTENCES AFTER CLEAR\n",
        "explore_data(cleared_sentences, labels, 10)"
      ]
    },
    {
      "cell_type": "code",
      "execution_count": 11,
      "metadata": {
        "colab": {
          "base_uri": "https://localhost:8080/"
        },
        "id": "Mec75iO7XGsg",
        "outputId": "3091dcc6-c4f8-424a-c871-0381065f6b13"
      },
      "outputs": [
        {
          "output_type": "execute_result",
          "data": {
            "text/plain": [
              "3329"
            ]
          },
          "metadata": {},
          "execution_count": 11
        }
      ],
      "source": [
        "# Get longest sentence length \n",
        "def get_longest_length(sentences):\n",
        "    \"\"\"\n",
        "    Get longest length of list of sentence\n",
        "    Arguments:\n",
        "        sentences (list): Sentences to get longest one length\n",
        "    Return\n",
        "        longest_len (int): Longest sentence length \n",
        "    \"\"\"\n",
        "    longest_len = 0\n",
        "    for text in sentences:\n",
        "        longest_len = max(longest_len, len(text.split()))\n",
        "    return longest_len\n",
        "\n",
        "max_len = get_longest_length(cleared_sentences)\n",
        "max_len"
      ]
    },
    {
      "cell_type": "code",
      "execution_count": 12,
      "metadata": {
        "id": "itJbKBywXGsg"
      },
      "outputs": [],
      "source": [
        "# Split Data\n",
        "train_sentences, valid_sentences, train_labels, valid_labels = train_test_split(cleared_sentences,\n",
        "                                                                                labels,\n",
        "                                                                                test_size = 0.20)"
      ]
    },
    {
      "cell_type": "code",
      "execution_count": 13,
      "metadata": {
        "id": "xUU8n8-dXGsh"
      },
      "outputs": [],
      "source": [
        "# Labels one hot encoding\n",
        "def onehot(labels):\n",
        "    \"\"\"\n",
        "    One hot encode labels to be ready for training\n",
        "    Arguments:\n",
        "        labels(list, series): labels to encode\n",
        "    Return:\n",
        "        Labels after encoding\n",
        "    \"\"\"\n",
        "    label_encoder = LabelEncoder()\n",
        "    vec = label_encoder.fit_transform(labels)\n",
        "    return to_categorical(vec)\n",
        "\n",
        "# Encode both validation and training labels\n",
        "train_labels = onehot(train_labels)\n",
        "valid_labels = onehot(valid_labels)"
      ]
    },
    {
      "cell_type": "code",
      "execution_count": 14,
      "metadata": {
        "id": "xZtQ3EcRXGsh"
      },
      "outputs": [],
      "source": [
        "# Create a tokenizer\n",
        "tokenizer = Tokenizer()\n",
        "\n",
        "# Fit texts\n",
        "tokenizer.fit_on_texts(train_sentences)\n",
        "\n",
        "# word index\n",
        "word_index = tokenizer.word_index\n",
        "\n",
        "# total words\n",
        "total_words = len(word_index) + 1\n",
        "\n",
        "# print(word_index)\n",
        "# print(total_words)\n",
        "\n",
        "# convert texts to sequences\n",
        "train_sequences = tokenizer.texts_to_sequences(train_sentences)\n",
        "valid_sequences = tokenizer.texts_to_sequences(valid_sentences)\n",
        "\n",
        "# padded sequences\n",
        "train_padded = pad_sequences(train_sequences, maxlen=max_len, padding='post', truncating='post')\n",
        "valid_padded = pad_sequences(valid_sequences, maxlen=max_len, padding='post', truncating='post')  "
      ]
    },
    {
      "cell_type": "code",
      "execution_count": 15,
      "metadata": {
        "id": "lXDMhr-TXGsi"
      },
      "outputs": [],
      "source": [
        "# LSTM model\n",
        "def LSTM_model(units, emb_dim, dropout):\n",
        "    \"\"\"\n",
        "        LSTM Model\n",
        "        Arguments:\n",
        "            units(int): number of LSTM units\n",
        "            emb_dim(int): number of embedding dimention to represent a word\n",
        "            dropout(float): droput ratio \n",
        "        Return\n",
        "            LSTM model\n",
        "    \"\"\"\n",
        "    model = tf.keras.Sequential([\n",
        "        tf.keras.layers.Embedding(total_words, emb_dim, input_length=max_len),\n",
        "        tf.keras.layers.Bidirectional(tf.keras.layers.LSTM(units)),\n",
        "        tf.keras.layers.Dense(32, activation='relu'),\n",
        "        tf.keras.layers.Dropout(dropout),\n",
        "        tf.keras.layers.Dense(17, activation='softmax')\n",
        "    ])\n",
        "    return model"
      ]
    },
    {
      "cell_type": "code",
      "execution_count": 16,
      "metadata": {
        "id": "x__Agij6XGsi"
      },
      "outputs": [],
      "source": [
        "# GRU Model\n",
        "def GRU_model(units, emb_dim, dropout):\n",
        "    \"\"\"\n",
        "        GRU Model\n",
        "        Arguments:\n",
        "            units(int): number of GRU units\n",
        "            emb_dim(int): number of embedding dimention to represent a word\n",
        "            dropout(float): droput ratio \n",
        "        Return\n",
        "            GRU model\n",
        "    \"\"\"\n",
        "    model = tf.keras.Sequential([\n",
        "        tf.keras.layers.Embedding(total_words, emb_dim, input_length=max_len),\n",
        "        tf.keras.layers.Bidirectional(tf.keras.layers.GRU(units)),\n",
        "        tf.keras.layers.Dense(32, activation='relu'),\n",
        "        tf.keras.layers.Dropout(dropout),\n",
        "        tf.keras.layers.Dense(17, activation='softmax')\n",
        "    ])\n",
        "    return model"
      ]
    },
    {
      "cell_type": "code",
      "execution_count": 17,
      "metadata": {
        "id": "kPkXYHh5f0kl"
      },
      "outputs": [],
      "source": [
        "# CONV Model\n",
        "def CONV_model(units, emb_dim, dropout):\n",
        "    \"\"\"\n",
        "        Try using a convelution layer instead of RNN\n",
        "        Arguments:\n",
        "            units(int): number of Conv units\n",
        "            emb_dim(int): number of embedding dimention to represent a word\n",
        "            dropout(float): droput ratio \n",
        "        Return\n",
        "            GRU model\n",
        "    \"\"\"\n",
        "    model = tf.keras.Sequential([\n",
        "        tf.keras.layers.Embedding(total_words, emb_dim, input_length=max_len),\n",
        "        tf.keras.layers.Conv1D(units, 5, activation='relu'),\n",
        "        tf.keras.layers.GlobalMaxPooling1D(),\n",
        "        tf.keras.layers.Dense(32, activation='relu'),\n",
        "        tf.keras.layers.Dropout(dropout),\n",
        "        tf.keras.layers.Dense(17, activation='softmax')\n",
        "    ])\n",
        "    return model"
      ]
    },
    {
      "cell_type": "code",
      "execution_count": 18,
      "metadata": {
        "id": "srfS17N-XGsj"
      },
      "outputs": [],
      "source": [
        "def compile_and_fit(model, optimizer, num_epochs):\n",
        "    \"\"\"\n",
        "    Compile and fit model\n",
        "    Arguments:\n",
        "        model(func): which model ?\n",
        "        optimizer(str): which optimizer ?\n",
        "        num_epochs: number of epochs\n",
        "    \"\"\"\n",
        "    # show model summary\n",
        "    model.summary()\n",
        "\n",
        "    # Compile model\n",
        "    model.compile(\n",
        "        loss='categorical_crossentropy',\n",
        "        optimizer=optimizer,\n",
        "        metrics=['accuracy']\n",
        "    )\n",
        "\n",
        "    history = model.fit(\n",
        "        train_padded,\n",
        "        train_labels,\n",
        "        epochs=num_epochs,\n",
        "        validation_data=(valid_padded, valid_labels),\n",
        "        verbose = 1\n",
        "    )\n",
        "\n",
        "    return history"
      ]
    },
    {
      "cell_type": "code",
      "execution_count": 19,
      "metadata": {
        "id": "IxIC1P2-hAry"
      },
      "outputs": [],
      "source": [
        "def plot_graphs(history):\n",
        "    \"\"\"\n",
        "    Plot accuracy and loss graph\n",
        "    Arguments:\n",
        "        History: model history\n",
        "    \"\"\"\n",
        "\n",
        "    # ACCURACY\n",
        "    plt.plot(history.history['accuracy'])\n",
        "    plt.plot(history.history['val_accuracy'])\n",
        "    plt.xlabel(\"Epochs\")\n",
        "    plt.ylabel('Accuracy')\n",
        "    plt.legend(['accuracy', 'val_accuracy'])\n",
        "\n",
        "    # Show figure\n",
        "    plt.show()\n",
        "\n",
        "    # LOSS\n",
        "    plt.plot(history.history['loss'])\n",
        "    plt.plot(history.history['val_loss'])\n",
        "    plt.xlabel(\"Epochs\")\n",
        "    plt.ylabel('Loss')\n",
        "    plt.legend(['loss', 'val_loss'])\n",
        "\n",
        "    # Show figure\n",
        "    plt.show()"
      ]
    },
    {
      "cell_type": "code",
      "source": [
        "def plot_confusion_matrix(model):\n",
        "  \"\"\"\n",
        "  Show the confusion matrix\n",
        "  Arguments:\n",
        "    model: model to show predicted values as heatmap\n",
        "  \"\"\"\n",
        "  # real labels\n",
        "  y = np.argmax(valid_labels, axis=1)\n",
        "\n",
        "  # predicted values\n",
        "  y_pred = model.predict(valid_padded)\n",
        "  y_pred = np.argmax(y_pred, axis=1)\n",
        "\n",
        "  # confusion matrix\n",
        "  cm = tf.math.confusion_matrix(y, y_pred)\n",
        "\n",
        "  # get list of langauges name in order\n",
        "  label_encoder = LabelEncoder()\n",
        "  vec = label_encoder.fit_transform(labels)\n",
        "  dic = dict(zip(vec, labels))\n",
        "  l = []\n",
        "  for i in range(17):\n",
        "    l.append(dic[i])\n",
        "\n",
        "  # plot confusion matrix\n",
        "  plt.figure(figsize=(20,20))\n",
        "  sns.heatmap(cm, annot = True)\n",
        "  loc = np.array(range(17)) +.5\n",
        "  plt.xticks(loc, l)\n",
        "  plt.yticks(loc, l)\n",
        "  plt.show()"
      ],
      "metadata": {
        "id": "N30nOrebUrgA"
      },
      "execution_count": 108,
      "outputs": []
    },
    {
      "cell_type": "code",
      "execution_count": 22,
      "metadata": {
        "colab": {
          "base_uri": "https://localhost:8080/"
        },
        "id": "EuElfIO2XGsk",
        "outputId": "42d3d187-c142-46a5-8222-1800feb361fb"
      },
      "outputs": [
        {
          "output_type": "stream",
          "name": "stdout",
          "text": [
            "Model: \"sequential_1\"\n",
            "_________________________________________________________________\n",
            " Layer (type)                Output Shape              Param #   \n",
            "=================================================================\n",
            " embedding_1 (Embedding)     (None, 3329, 32)          1213856   \n",
            "                                                                 \n",
            " bidirectional_1 (Bidirectio  (None, 256)              164864    \n",
            " nal)                                                            \n",
            "                                                                 \n",
            " dense_2 (Dense)             (None, 32)                8224      \n",
            "                                                                 \n",
            " dropout_1 (Dropout)         (None, 32)                0         \n",
            "                                                                 \n",
            " dense_3 (Dense)             (None, 17)                561       \n",
            "                                                                 \n",
            "=================================================================\n",
            "Total params: 1,387,505\n",
            "Trainable params: 1,387,505\n",
            "Non-trainable params: 0\n",
            "_________________________________________________________________\n",
            "Epoch 1/20\n",
            "259/259 [==============================] - 245s 930ms/step - loss: 2.3220 - accuracy: 0.2180 - val_loss: 1.5474 - val_accuracy: 0.4623\n",
            "Epoch 2/20\n",
            "259/259 [==============================] - 235s 908ms/step - loss: 2.1412 - accuracy: 0.3097 - val_loss: 2.1033 - val_accuracy: 0.2969\n",
            "Epoch 3/20\n",
            "259/259 [==============================] - 234s 903ms/step - loss: 1.8893 - accuracy: 0.3260 - val_loss: 1.7167 - val_accuracy: 0.3704\n",
            "Epoch 4/20\n",
            "259/259 [==============================] - 234s 902ms/step - loss: 1.3573 - accuracy: 0.5109 - val_loss: 1.0877 - val_accuracy: 0.6760\n",
            "Epoch 5/20\n",
            "259/259 [==============================] - 234s 902ms/step - loss: 0.9049 - accuracy: 0.6786 - val_loss: 0.8611 - val_accuracy: 0.7302\n",
            "Epoch 6/20\n",
            "259/259 [==============================] - 234s 903ms/step - loss: 0.7273 - accuracy: 0.7534 - val_loss: 0.7953 - val_accuracy: 0.7660\n",
            "Epoch 7/20\n",
            "259/259 [==============================] - 234s 902ms/step - loss: 0.4981 - accuracy: 0.8400 - val_loss: 0.6759 - val_accuracy: 0.8351\n",
            "Epoch 8/20\n",
            "259/259 [==============================] - 234s 902ms/step - loss: 0.3899 - accuracy: 0.8792 - val_loss: 0.6726 - val_accuracy: 0.8448\n",
            "Epoch 9/20\n",
            "259/259 [==============================] - 233s 900ms/step - loss: 0.2886 - accuracy: 0.9109 - val_loss: 0.6479 - val_accuracy: 0.8627\n",
            "Epoch 10/20\n",
            "259/259 [==============================] - 233s 902ms/step - loss: 0.3853 - accuracy: 0.8747 - val_loss: 0.6613 - val_accuracy: 0.8723\n",
            "Epoch 11/20\n",
            "259/259 [==============================] - 234s 902ms/step - loss: 0.2794 - accuracy: 0.9164 - val_loss: 0.6605 - val_accuracy: 0.8786\n",
            "Epoch 12/20\n",
            "259/259 [==============================] - 233s 901ms/step - loss: 0.1614 - accuracy: 0.9549 - val_loss: 0.6675 - val_accuracy: 0.8830\n",
            "Epoch 13/20\n",
            "259/259 [==============================] - 234s 903ms/step - loss: 0.1214 - accuracy: 0.9676 - val_loss: 0.6881 - val_accuracy: 0.8883\n",
            "Epoch 14/20\n",
            "259/259 [==============================] - 233s 901ms/step - loss: 0.0980 - accuracy: 0.9746 - val_loss: 0.7184 - val_accuracy: 0.8936\n",
            "Epoch 15/20\n",
            "259/259 [==============================] - 234s 902ms/step - loss: 0.0812 - accuracy: 0.9793 - val_loss: 0.7027 - val_accuracy: 0.8926\n",
            "Epoch 16/20\n",
            "259/259 [==============================] - 234s 903ms/step - loss: 0.0711 - accuracy: 0.9815 - val_loss: 0.7193 - val_accuracy: 0.8917\n",
            "Epoch 17/20\n",
            "259/259 [==============================] - 234s 902ms/step - loss: 0.0814 - accuracy: 0.9761 - val_loss: 0.6950 - val_accuracy: 0.8956\n",
            "Epoch 18/20\n",
            "259/259 [==============================] - 233s 901ms/step - loss: 0.0698 - accuracy: 0.9807 - val_loss: 0.7512 - val_accuracy: 0.8951\n",
            "Epoch 19/20\n",
            "259/259 [==============================] - 233s 901ms/step - loss: 0.0555 - accuracy: 0.9859 - val_loss: 0.7762 - val_accuracy: 0.8960\n",
            "Epoch 20/20\n",
            "259/259 [==============================] - 233s 900ms/step - loss: 0.0521 - accuracy: 0.9868 - val_loss: 0.7115 - val_accuracy: 0.8994\n"
          ]
        }
      ],
      "source": [
        "# TRY LSTM\n",
        "lstm = LSTM_model(128, 32, .2)\n",
        "lstm_history = compile_and_fit(lstm, 'adam', 20)"
      ]
    },
    {
      "cell_type": "code",
      "execution_count": 23,
      "metadata": {
        "colab": {
          "base_uri": "https://localhost:8080/",
          "height": 541
        },
        "id": "Ipna3b6pkyOF",
        "outputId": "50db3aed-75f7-4212-c7eb-caddd517b9cc"
      },
      "outputs": [
        {
          "output_type": "display_data",
          "data": {
            "image/png": "[encoded data removed]",
            "text/plain": [
              "<Figure size 432x288 with 1 Axes>"
            ]
          },
          "metadata": {
            "needs_background": "light"
          }
        },
        {
          "output_type": "display_data",
          "data": {
            "image/png": "[encoded data removed]",
            "text/plain": [
              "<Figure size 432x288 with 1 Axes>"
            ]
          },
          "metadata": {
            "needs_background": "light"
          }
        }
      ],
      "source": [
        "# plot LSTM model graph\n",
        "plot_graphs(lstm_history)"
      ]
    },
    {
      "cell_type": "code",
      "source": [
        "# Plot Confusion matrix\n",
        "plot_confusion_matrix(lstm)"
      ],
      "metadata": {
        "colab": {
          "base_uri": "https://localhost:8080/",
          "height": 1000
        },
        "id": "nXTQP1NEV4Cw",
        "outputId": "6c0c9837-e756-474f-ea2f-349bdfc4cb68"
      },
      "execution_count": 109,
      "outputs": [
        {
          "output_type": "display_data",
          "data": {
            "image/png": "[encoded data removed]",
            "text/plain": [
              "<Figure size 1440x1440 with 2 Axes>"
            ]
          },
          "metadata": {
            "needs_background": "light"
          }
        }
      ]
    },
    {
      "cell_type": "code",
      "execution_count": 20,
      "metadata": {
        "colab": {
          "base_uri": "https://localhost:8080/"
        },
        "id": "JsPrr4e6gy3v",
        "outputId": "e8c07f0b-e038-4199-c565-708f326d9721"
      },
      "outputs": [
        {
          "output_type": "stream",
          "name": "stdout",
          "text": [
            "Model: \"sequential\"\n",
            "_________________________________________________________________\n",
            " Layer (type)                Output Shape              Param #   \n",
            "=================================================================\n",
            " embedding (Embedding)       (None, 3329, 32)          1213856   \n",
            "                                                                 \n",
            " bidirectional (Bidirectiona  (None, 128)              37632     \n",
            " l)                                                              \n",
            "                                                                 \n",
            " dense (Dense)               (None, 32)                4128      \n",
            "                                                                 \n",
            " dropout (Dropout)           (None, 32)                0         \n",
            "                                                                 \n",
            " dense_1 (Dense)             (None, 17)                561       \n",
            "                                                                 \n",
            "=================================================================\n",
            "Total params: 1,256,177\n",
            "Trainable params: 1,256,177\n",
            "Non-trainable params: 0\n",
            "_________________________________________________________________\n",
            "Epoch 1/20\n",
            "259/259 [==============================] - 190s 702ms/step - loss: 2.1598 - accuracy: 0.2645 - val_loss: 1.3843 - val_accuracy: 0.5382\n",
            "Epoch 2/20\n",
            "259/259 [==============================] - 180s 696ms/step - loss: 0.9357 - accuracy: 0.7006 - val_loss: 0.5220 - val_accuracy: 0.8549\n",
            "Epoch 3/20\n",
            "259/259 [==============================] - 180s 696ms/step - loss: 0.3387 - accuracy: 0.9051 - val_loss: 0.2965 - val_accuracy: 0.9226\n",
            "Epoch 4/20\n",
            "259/259 [==============================] - 180s 695ms/step - loss: 0.1550 - accuracy: 0.9595 - val_loss: 0.2896 - val_accuracy: 0.9221\n",
            "Epoch 5/20\n",
            "259/259 [==============================] - 180s 695ms/step - loss: 0.0826 - accuracy: 0.9791 - val_loss: 0.2513 - val_accuracy: 0.9400\n",
            "Epoch 6/20\n",
            "259/259 [==============================] - 180s 695ms/step - loss: 0.0517 - accuracy: 0.9877 - val_loss: 0.3228 - val_accuracy: 0.9279\n",
            "Epoch 7/20\n",
            "259/259 [==============================] - 180s 696ms/step - loss: 0.0397 - accuracy: 0.9911 - val_loss: 0.2914 - val_accuracy: 0.9328\n",
            "Epoch 8/20\n",
            "259/259 [==============================] - 180s 696ms/step - loss: 0.0297 - accuracy: 0.9929 - val_loss: 0.2596 - val_accuracy: 0.9400\n",
            "Epoch 9/20\n",
            "259/259 [==============================] - 180s 696ms/step - loss: 0.0238 - accuracy: 0.9944 - val_loss: 0.3267 - val_accuracy: 0.9333\n",
            "Epoch 10/20\n",
            "259/259 [==============================] - 180s 696ms/step - loss: 0.0205 - accuracy: 0.9943 - val_loss: 0.2940 - val_accuracy: 0.9410\n",
            "Epoch 11/20\n",
            "259/259 [==============================] - 180s 695ms/step - loss: 0.0203 - accuracy: 0.9954 - val_loss: 0.3083 - val_accuracy: 0.9396\n",
            "Epoch 12/20\n",
            "259/259 [==============================] - 180s 695ms/step - loss: 0.0360 - accuracy: 0.9914 - val_loss: 0.3213 - val_accuracy: 0.9304\n",
            "Epoch 13/20\n",
            "259/259 [==============================] - 180s 696ms/step - loss: 0.0283 - accuracy: 0.9930 - val_loss: 0.2979 - val_accuracy: 0.9400\n",
            "Epoch 14/20\n",
            "259/259 [==============================] - 180s 696ms/step - loss: 0.0269 - accuracy: 0.9930 - val_loss: 0.3416 - val_accuracy: 0.9386\n",
            "Epoch 15/20\n",
            "259/259 [==============================] - 180s 695ms/step - loss: 0.0147 - accuracy: 0.9969 - val_loss: 0.3237 - val_accuracy: 0.9391\n",
            "Epoch 16/20\n",
            "259/259 [==============================] - 180s 695ms/step - loss: 0.0114 - accuracy: 0.9970 - val_loss: 0.3264 - val_accuracy: 0.9410\n",
            "Epoch 17/20\n",
            "259/259 [==============================] - 180s 696ms/step - loss: 0.0103 - accuracy: 0.9973 - val_loss: 0.3456 - val_accuracy: 0.9371\n",
            "Epoch 18/20\n",
            "259/259 [==============================] - 180s 695ms/step - loss: 0.0115 - accuracy: 0.9970 - val_loss: 0.3505 - val_accuracy: 0.9376\n",
            "Epoch 19/20\n",
            "259/259 [==============================] - 180s 695ms/step - loss: 0.0124 - accuracy: 0.9976 - val_loss: 0.3616 - val_accuracy: 0.9367\n",
            "Epoch 20/20\n",
            "259/259 [==============================] - 180s 695ms/step - loss: 0.0109 - accuracy: 0.9975 - val_loss: 0.4521 - val_accuracy: 0.9318\n"
          ]
        }
      ],
      "source": [
        "# TRY GRU\n",
        "gru = GRU_model(64, 32, .2)\n",
        "gru_history = compile_and_fit(gru, 'adam', 20)"
      ]
    },
    {
      "cell_type": "code",
      "execution_count": 21,
      "metadata": {
        "colab": {
          "base_uri": "https://localhost:8080/",
          "height": 541
        },
        "id": "tLTSkoRGk8GY",
        "outputId": "8a79a614-a0a9-46b4-f276-6053255677a2"
      },
      "outputs": [
        {
          "output_type": "display_data",
          "data": {
            "image/png": "[encoded data removed]",
            "text/plain": [
              "<Figure size 432x288 with 1 Axes>"
            ]
          },
          "metadata": {
            "needs_background": "light"
          }
        },
        {
          "output_type": "display_data",
          "data": {
            "image/png": "[encoded data removed]",
            "text/plain": [
              "<Figure size 432x288 with 1 Axes>"
            ]
          },
          "metadata": {
            "needs_background": "light"
          }
        }
      ],
      "source": [
        "# plot GRU model graphs\n",
        "plot_graphs(gru_history)"
      ]
    },
    {
      "cell_type": "code",
      "source": [
        "# Plot Confusion matrix\n",
        "plot_confusion_matrix(gru)"
      ],
      "metadata": {
        "colab": {
          "base_uri": "https://localhost:8080/",
          "height": 1000
        },
        "id": "KkuhYwb_g9J0",
        "outputId": "fd16031a-1dc0-41bc-bc55-371ad011f552"
      },
      "execution_count": 110,
      "outputs": [
        {
          "output_type": "display_data",
          "data": {
            "image/png": "[encoded data removed]",
            "text/plain": [
              "<Figure size 1440x1440 with 2 Axes>"
            ]
          },
          "metadata": {
            "needs_background": "light"
          }
        }
      ]
    },
    {
      "cell_type": "code",
      "execution_count": 24,
      "metadata": {
        "colab": {
          "base_uri": "https://localhost:8080/"
        },
        "id": "0ABcsffog_RQ",
        "outputId": "7bb859d9-e292-4b3a-e6c0-c336b0da1fa0"
      },
      "outputs": [
        {
          "output_type": "stream",
          "name": "stdout",
          "text": [
            "Model: \"sequential_2\"\n",
            "_________________________________________________________________\n",
            " Layer (type)                Output Shape              Param #   \n",
            "=================================================================\n",
            " embedding_2 (Embedding)     (None, 3329, 32)          1213856   \n",
            "                                                                 \n",
            " conv1d (Conv1D)             (None, 3325, 128)         20608     \n",
            "                                                                 \n",
            " global_max_pooling1d (Globa  (None, 128)              0         \n",
            " lMaxPooling1D)                                                  \n",
            "                                                                 \n",
            " dense_4 (Dense)             (None, 32)                4128      \n",
            "                                                                 \n",
            " dropout_2 (Dropout)         (None, 32)                0         \n",
            "                                                                 \n",
            " dense_5 (Dense)             (None, 17)                561       \n",
            "                                                                 \n",
            "=================================================================\n",
            "Total params: 1,239,153\n",
            "Trainable params: 1,239,153\n",
            "Non-trainable params: 0\n",
            "_________________________________________________________________\n",
            "Epoch 1/10\n",
            "259/259 [==============================] - 19s 47ms/step - loss: 2.1972 - accuracy: 0.2974 - val_loss: 1.0411 - val_accuracy: 0.7577\n",
            "Epoch 2/10\n",
            "259/259 [==============================] - 11s 43ms/step - loss: 0.5247 - accuracy: 0.8658 - val_loss: 0.2491 - val_accuracy: 0.9342\n",
            "Epoch 3/10\n",
            "259/259 [==============================] - 12s 46ms/step - loss: 0.1393 - accuracy: 0.9653 - val_loss: 0.1992 - val_accuracy: 0.9454\n",
            "Epoch 4/10\n",
            "259/259 [==============================] - 12s 46ms/step - loss: 0.0648 - accuracy: 0.9860 - val_loss: 0.1840 - val_accuracy: 0.9478\n",
            "Epoch 5/10\n",
            "259/259 [==============================] - 11s 43ms/step - loss: 0.0360 - accuracy: 0.9931 - val_loss: 0.1893 - val_accuracy: 0.9473\n",
            "Epoch 6/10\n",
            "259/259 [==============================] - 12s 45ms/step - loss: 0.0237 - accuracy: 0.9948 - val_loss: 0.1807 - val_accuracy: 0.9497\n",
            "Epoch 7/10\n",
            "259/259 [==============================] - 12s 45ms/step - loss: 0.0217 - accuracy: 0.9950 - val_loss: 0.1884 - val_accuracy: 0.9478\n",
            "Epoch 8/10\n",
            "259/259 [==============================] - 12s 45ms/step - loss: 0.0155 - accuracy: 0.9961 - val_loss: 0.1879 - val_accuracy: 0.9507\n",
            "Epoch 9/10\n",
            "259/259 [==============================] - 12s 45ms/step - loss: 0.0140 - accuracy: 0.9965 - val_loss: 0.1843 - val_accuracy: 0.9531\n",
            "Epoch 10/10\n",
            "259/259 [==============================] - 12s 45ms/step - loss: 0.0113 - accuracy: 0.9972 - val_loss: 0.2069 - val_accuracy: 0.9463\n"
          ]
        }
      ],
      "source": [
        "# TRY CONV\n",
        "conv = CONV_model(128, 32, .2)\n",
        "conv_history = compile_and_fit(conv, 'adam', 10)"
      ]
    },
    {
      "cell_type": "code",
      "execution_count": 25,
      "metadata": {
        "colab": {
          "base_uri": "https://localhost:8080/",
          "height": 541
        },
        "id": "r-yiPnyPk_D8",
        "outputId": "0d99c9a6-987a-4a98-deab-a099eb4b2984"
      },
      "outputs": [
        {
          "output_type": "display_data",
          "data": {
            "image/png": "[encoded data removed]",
            "text/plain": [
              "<Figure size 432x288 with 1 Axes>"
            ]
          },
          "metadata": {
            "needs_background": "light"
          }
        },
        {
          "output_type": "display_data",
          "data": {
            "image/png": "[encoded data removed]",
            "text/plain": [
              "<Figure size 432x288 with 1 Axes>"
            ]
          },
          "metadata": {
            "needs_background": "light"
          }
        }
      ],
      "source": [
        "# Plot Covn model graphs\n",
        "plot_graphs(conv_history)"
      ]
    },
    {
      "cell_type": "code",
      "source": [
        "# Plot Confusion matrix\n",
        "plot_confusion_matrix(conv)"
      ],
      "metadata": {
        "colab": {
          "base_uri": "https://localhost:8080/",
          "height": 1000
        },
        "id": "XpV2EZA-hFg6",
        "outputId": "80bc7405-1054-4f1c-a70d-4caea8cf2f45"
      },
      "execution_count": 111,
      "outputs": [
        {
          "output_type": "display_data",
          "data": {
            "image/png": "[encoded data removed]",
            "text/plain": [
              "<Figure size 1440x1440 with 2 Axes>"
            ]
          },
          "metadata": {
            "needs_background": "light"
          }
        }
      ]
    },
    {
      "cell_type": "code",
      "execution_count": 27,
      "metadata": {
        "id": "x8XVGtwUnKFo"
      },
      "outputs": [],
      "source": [
        "# Save models\n",
        "conv.save('LSTM.h5')\n",
        "gru.save('GRU.h5')\n",
        "lstm.save('Conv.h5')"
      ]
    },
    {
      "cell_type": "code",
      "execution_count": 112,
      "metadata": {
        "colab": {
          "base_uri": "https://localhost:8080/",
          "height": 17
        },
        "outputId": "261c3b99-ca79-4b50-f47d-fd64208f474c",
        "id": "3Nf8D4E-QpRm"
      },
      "outputs": [
        {
          "output_type": "display_data",
          "data": {
            "application/javascript": [
              "\n",
              "    async function download(id, filename, size) {\n",
              "      if (!google.colab.kernel.accessAllowed) {\n",
              "        return;\n",
              "      }\n",
              "      const div = document.createElement('div');\n",
              "      const label = document.createElement('label');\n",
              "      label.textContent = `Downloading \"${filename}\": `;\n",
              "      div.appendChild(label);\n",
              "      const progress = document.createElement('progress');\n",
              "      progress.max = size;\n",
              "      div.appendChild(progress);\n",
              "      document.body.appendChild(div);\n",
              "\n",
              "      const buffers = [];\n",
              "      let downloaded = 0;\n",
              "\n",
              "      const channel = await google.colab.kernel.comms.open(id);\n",
              "      // Send a message to notify the kernel that we're ready.\n",
              "      channel.send({})\n",
              "\n",
              "      for await (const message of channel.messages) {\n",
              "        // Send a message to notify the kernel that we're ready.\n",
              "        channel.send({})\n",
              "        if (message.buffers) {\n",
              "          for (const buffer of message.buffers) {\n",
              "            buffers.push(buffer);\n",
              "            downloaded += buffer.byteLength;\n",
              "            progress.value = downloaded;\n",
              "          }\n",
              "        }\n",
              "      }\n",
              "      const blob = new Blob(buffers, {type: 'application/binary'});\n",
              "      const a = document.createElement('a');\n",
              "      a.href = window.URL.createObjectURL(blob);\n",
              "      a.download = filename;\n",
              "      div.appendChild(a);\n",
              "      a.click();\n",
              "      div.remove();\n",
              "    }\n",
              "  "
            ],
            "text/plain": [
              "<IPython.core.display.Javascript object>"
            ]
          },
          "metadata": {}
        },
        {
          "output_type": "display_data",
          "data": {
            "application/javascript": [
              "download(\"download_50ad7ab8-6763-4282-9e12-8212e0b42725\", \"LSTM.h5\", 14909080)"
            ],
            "text/plain": [
              "<IPython.core.display.Javascript object>"
            ]
          },
          "metadata": {}
        },
        {
          "output_type": "display_data",
          "data": {
            "application/javascript": [
              "\n",
              "    async function download(id, filename, size) {\n",
              "      if (!google.colab.kernel.accessAllowed) {\n",
              "        return;\n",
              "      }\n",
              "      const div = document.createElement('div');\n",
              "      const label = document.createElement('label');\n",
              "      label.textContent = `Downloading \"${filename}\": `;\n",
              "      div.appendChild(label);\n",
              "      const progress = document.createElement('progress');\n",
              "      progress.max = size;\n",
              "      div.appendChild(progress);\n",
              "      document.body.appendChild(div);\n",
              "\n",
              "      const buffers = [];\n",
              "      let downloaded = 0;\n",
              "\n",
              "      const channel = await google.colab.kernel.comms.open(id);\n",
              "      // Send a message to notify the kernel that we're ready.\n",
              "      channel.send({})\n",
              "\n",
              "      for await (const message of channel.messages) {\n",
              "        // Send a message to notify the kernel that we're ready.\n",
              "        channel.send({})\n",
              "        if (message.buffers) {\n",
              "          for (const buffer of message.buffers) {\n",
              "            buffers.push(buffer);\n",
              "            downloaded += buffer.byteLength;\n",
              "            progress.value = downloaded;\n",
              "          }\n",
              "        }\n",
              "      }\n",
              "      const blob = new Blob(buffers, {type: 'application/binary'});\n",
              "      const a = document.createElement('a');\n",
              "      a.href = window.URL.createObjectURL(blob);\n",
              "      a.download = filename;\n",
              "      div.appendChild(a);\n",
              "      a.click();\n",
              "      div.remove();\n",
              "    }\n",
              "  "
            ],
            "text/plain": [
              "<IPython.core.display.Javascript object>"
            ]
          },
          "metadata": {}
        },
        {
          "output_type": "display_data",
          "data": {
            "application/javascript": [
              "download(\"download_fa584ef8-aba2-4f0c-8405-7bbfbe825e0e\", \"GRU.h5\", 15134832)"
            ],
            "text/plain": [
              "<IPython.core.display.Javascript object>"
            ]
          },
          "metadata": {}
        },
        {
          "output_type": "display_data",
          "data": {
            "application/javascript": [
              "\n",
              "    async function download(id, filename, size) {\n",
              "      if (!google.colab.kernel.accessAllowed) {\n",
              "        return;\n",
              "      }\n",
              "      const div = document.createElement('div');\n",
              "      const label = document.createElement('label');\n",
              "      label.textContent = `Downloading \"${filename}\": `;\n",
              "      div.appendChild(label);\n",
              "      const progress = document.createElement('progress');\n",
              "      progress.max = size;\n",
              "      div.appendChild(progress);\n",
              "      document.body.appendChild(div);\n",
              "\n",
              "      const buffers = [];\n",
              "      let downloaded = 0;\n",
              "\n",
              "      const channel = await google.colab.kernel.comms.open(id);\n",
              "      // Send a message to notify the kernel that we're ready.\n",
              "      channel.send({})\n",
              "\n",
              "      for await (const message of channel.messages) {\n",
              "        // Send a message to notify the kernel that we're ready.\n",
              "        channel.send({})\n",
              "        if (message.buffers) {\n",
              "          for (const buffer of message.buffers) {\n",
              "            buffers.push(buffer);\n",
              "            downloaded += buffer.byteLength;\n",
              "            progress.value = downloaded;\n",
              "          }\n",
              "        }\n",
              "      }\n",
              "      const blob = new Blob(buffers, {type: 'application/binary'});\n",
              "      const a = document.createElement('a');\n",
              "      a.href = window.URL.createObjectURL(blob);\n",
              "      a.download = filename;\n",
              "      div.appendChild(a);\n",
              "      a.click();\n",
              "      div.remove();\n",
              "    }\n",
              "  "
            ],
            "text/plain": [
              "<IPython.core.display.Javascript object>"
            ]
          },
          "metadata": {}
        },
        {
          "output_type": "display_data",
          "data": {
            "application/javascript": [
              "download(\"download_4767b65a-db69-48ed-b108-63fb6ea8dcd6\", \"Conv.h5\", 16710848)"
            ],
            "text/plain": [
              "<IPython.core.display.Javascript object>"
            ]
          },
          "metadata": {}
        }
      ],
      "source": [
        "# Download files\n",
        "try:\n",
        "    from google.colab import files\n",
        "except ImportError:\n",
        "    pass\n",
        "else:\n",
        "    files.download('LSTM.h5')\n",
        "    files.download('GRU.h5')\n",
        "    files.download('Conv.h5')"
      ]
    },
    {
      "cell_type": "code",
      "execution_count": null,
      "metadata": {
        "id": "bj609KpWlGiX"
      },
      "outputs": [],
      "source": [
        "# saving embedding vectors to visualize using embedding projector\n",
        "e = gru.layers[0]\n",
        "weights = e.get_weights()[0]\n",
        "print(weights.shape) # shape: (vocab_size, embedding_dim)\n",
        "\n",
        "\n",
        "import io\n",
        "\n",
        "out_v = io.open('vecs.tsv', 'w', encoding='utf-8')\n",
        "out_m = io.open('meta.tsv', 'w', encoding='utf-8')\n",
        "\n",
        "reverse_word_index = dict([(value, key) for (key, value) in word_index.items()])\n",
        "\n",
        "for word_num in range(1, weights.shape[0]):\n",
        "    word = reverse_word_index[word_num]\n",
        "    embeddings = weights[word_num]\n",
        "    out_m.write(word + \"\\n\")\n",
        "    out_v.write('\\t'.join([str(x) for x in embeddings]) + \"\\n\")\n",
        "\n",
        "out_v.close()\n",
        "out_m.close()"
      ]
    },
    {
      "cell_type": "code",
      "execution_count": null,
      "metadata": {
        "colab": {
          "base_uri": "https://localhost:8080/",
          "height": 17
        },
        "id": "p2n37xoFlmM0",
        "outputId": "c902af23-190c-4d2c-90ba-863f05c8208b"
      },
      "outputs": [
        {
          "output_type": "display_data",
          "data": {
            "application/javascript": [
              "\n",
              "    async function download(id, filename, size) {\n",
              "      if (!google.colab.kernel.accessAllowed) {\n",
              "        return;\n",
              "      }\n",
              "      const div = document.createElement('div');\n",
              "      const label = document.createElement('label');\n",
              "      label.textContent = `Downloading \"${filename}\": `;\n",
              "      div.appendChild(label);\n",
              "      const progress = document.createElement('progress');\n",
              "      progress.max = size;\n",
              "      div.appendChild(progress);\n",
              "      document.body.appendChild(div);\n",
              "\n",
              "      const buffers = [];\n",
              "      let downloaded = 0;\n",
              "\n",
              "      const channel = await google.colab.kernel.comms.open(id);\n",
              "      // Send a message to notify the kernel that we're ready.\n",
              "      channel.send({})\n",
              "\n",
              "      for await (const message of channel.messages) {\n",
              "        // Send a message to notify the kernel that we're ready.\n",
              "        channel.send({})\n",
              "        if (message.buffers) {\n",
              "          for (const buffer of message.buffers) {\n",
              "            buffers.push(buffer);\n",
              "            downloaded += buffer.byteLength;\n",
              "            progress.value = downloaded;\n",
              "          }\n",
              "        }\n",
              "      }\n",
              "      const blob = new Blob(buffers, {type: 'application/binary'});\n",
              "      const a = document.createElement('a');\n",
              "      a.href = window.URL.createObjectURL(blob);\n",
              "      a.download = filename;\n",
              "      div.appendChild(a);\n",
              "      a.click();\n",
              "      div.remove();\n",
              "    }\n",
              "  "
            ],
            "text/plain": [
              "<IPython.core.display.Javascript object>"
            ]
          },
          "metadata": {}
        },
        {
          "output_type": "display_data",
          "data": {
            "application/javascript": [
              "download(\"download_cc9da166-d641-482d-93ba-22d2c89687b5\", \"vecs.tsv\", 7773888)"
            ],
            "text/plain": [
              "<IPython.core.display.Javascript object>"
            ]
          },
          "metadata": {}
        },
        {
          "output_type": "display_data",
          "data": {
            "application/javascript": [
              "\n",
              "    async function download(id, filename, size) {\n",
              "      if (!google.colab.kernel.accessAllowed) {\n",
              "        return;\n",
              "      }\n",
              "      const div = document.createElement('div');\n",
              "      const label = document.createElement('label');\n",
              "      label.textContent = `Downloading \"${filename}\": `;\n",
              "      div.appendChild(label);\n",
              "      const progress = document.createElement('progress');\n",
              "      progress.max = size;\n",
              "      div.appendChild(progress);\n",
              "      document.body.appendChild(div);\n",
              "\n",
              "      const buffers = [];\n",
              "      let downloaded = 0;\n",
              "\n",
              "      const channel = await google.colab.kernel.comms.open(id);\n",
              "      // Send a message to notify the kernel that we're ready.\n",
              "      channel.send({})\n",
              "\n",
              "      for await (const message of channel.messages) {\n",
              "        // Send a message to notify the kernel that we're ready.\n",
              "        channel.send({})\n",
              "        if (message.buffers) {\n",
              "          for (const buffer of message.buffers) {\n",
              "            buffers.push(buffer);\n",
              "            downloaded += buffer.byteLength;\n",
              "            progress.value = downloaded;\n",
              "          }\n",
              "        }\n",
              "      }\n",
              "      const blob = new Blob(buffers, {type: 'application/binary'});\n",
              "      const a = document.createElement('a');\n",
              "      a.href = window.URL.createObjectURL(blob);\n",
              "      a.download = filename;\n",
              "      div.appendChild(a);\n",
              "      a.click();\n",
              "      div.remove();\n",
              "    }\n",
              "  "
            ],
            "text/plain": [
              "<IPython.core.display.Javascript object>"
            ]
          },
          "metadata": {}
        },
        {
          "output_type": "display_data",
          "data": {
            "application/javascript": [
              "download(\"download_cd03eef0-1145-4cac-9a1f-4ced96c9e612\", \"meta.tsv\", 497507)"
            ],
            "text/plain": [
              "<IPython.core.display.Javascript object>"
            ]
          },
          "metadata": {}
        }
      ],
      "source": [
        "# Download files\n",
        "try:\n",
        "    from google.colab import files\n",
        "except ImportError:\n",
        "    pass\n",
        "else:\n",
        "    files.download('vecs.tsv')\n",
        "    files.download('meta.tsv')"
      ]
    }
  ],
  "metadata": {
    "accelerator": "GPU",
    "colab": {
      "name": "Langauge_Identifire.ipynb",
      "provenance": []
    },
    "interpreter": {
      "hash": "ac7eb4f91ce8d2a1ed02f73440a85f0ca1c27708a2c0296f6a7462e7dee31970"
    },
    "kernelspec": {
      "display_name": "Python 3.8.5 64-bit",
      "language": "python",
      "name": "python3"
    },
    "language_info": {
      "codemirror_mode": {
        "name": "ipython",
        "version": 3
      },
      "file_extension": ".py",
      "mimetype": "text/x-python",
      "name": "python",
      "nbconvert_exporter": "python",
      "pygments_lexer": "ipython3",
      "version": "3.8.5"
    }
  },
  "nbformat": 4,
  "nbformat_minor": 0
}